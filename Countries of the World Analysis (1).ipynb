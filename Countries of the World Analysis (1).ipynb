{
 "cells": [
  {
   "cell_type": "code",
   "execution_count": 14,
   "id": "1672755d",
   "metadata": {},
   "outputs": [],
   "source": [
    "import numpy as np\n",
    "import matplotlib.pyplot as plt\n",
    "import pandas as pd\n",
    "import statsmodels.api as sm"
   ]
  },
  {
   "cell_type": "code",
   "execution_count": 26,
   "id": "c4b7c191",
   "metadata": {},
   "outputs": [],
   "source": [
    "df = pd.read_csv(\"countries of the world.csv\")\n",
    "df1 = df.dropna()"
   ]
  },
  {
   "cell_type": "markdown",
   "id": "67cc6937",
   "metadata": {},
   "source": [
    "# Countries of the World\n",
    "#### -> Exploring the relationships between countries"
   ]
  },
  {
   "cell_type": "code",
   "execution_count": 27,
   "id": "406530d0",
   "metadata": {
    "scrolled": false
   },
   "outputs": [
    {
     "data": {
      "text/html": [
       "<div>\n",
       "<style scoped>\n",
       "    .dataframe tbody tr th:only-of-type {\n",
       "        vertical-align: middle;\n",
       "    }\n",
       "\n",
       "    .dataframe tbody tr th {\n",
       "        vertical-align: top;\n",
       "    }\n",
       "\n",
       "    .dataframe thead th {\n",
       "        text-align: right;\n",
       "    }\n",
       "</style>\n",
       "<table border=\"1\" class=\"dataframe\">\n",
       "  <thead>\n",
       "    <tr style=\"text-align: right;\">\n",
       "      <th></th>\n",
       "      <th>Country</th>\n",
       "      <th>Region</th>\n",
       "      <th>Population</th>\n",
       "      <th>Area (sq. mi.)</th>\n",
       "      <th>Pop. Density (per sq. mi.)</th>\n",
       "      <th>Coastline (coast/area ratio)</th>\n",
       "      <th>Net migration</th>\n",
       "      <th>Infant mortality (per 1000 births)</th>\n",
       "      <th>GDP ($ per capita)</th>\n",
       "      <th>Literacy (%)</th>\n",
       "      <th>Phones (per 1000)</th>\n",
       "      <th>Arable (%)</th>\n",
       "      <th>Crops (%)</th>\n",
       "      <th>Other (%)</th>\n",
       "      <th>Climate</th>\n",
       "      <th>Birthrate</th>\n",
       "      <th>Deathrate</th>\n",
       "      <th>Agriculture</th>\n",
       "      <th>Industry</th>\n",
       "      <th>Service</th>\n",
       "    </tr>\n",
       "  </thead>\n",
       "  <tbody>\n",
       "    <tr>\n",
       "      <th>0</th>\n",
       "      <td>Afghanistan</td>\n",
       "      <td>ASIA (EX. NEAR EAST)</td>\n",
       "      <td>31056997</td>\n",
       "      <td>647500</td>\n",
       "      <td>48,0</td>\n",
       "      <td>0,00</td>\n",
       "      <td>23,06</td>\n",
       "      <td>163,07</td>\n",
       "      <td>700.0</td>\n",
       "      <td>36,0</td>\n",
       "      <td>3,2</td>\n",
       "      <td>12,13</td>\n",
       "      <td>0,22</td>\n",
       "      <td>87,65</td>\n",
       "      <td>1</td>\n",
       "      <td>46,6</td>\n",
       "      <td>20,34</td>\n",
       "      <td>0,38</td>\n",
       "      <td>0,24</td>\n",
       "      <td>0,38</td>\n",
       "    </tr>\n",
       "    <tr>\n",
       "      <th>1</th>\n",
       "      <td>Albania</td>\n",
       "      <td>EASTERN EUROPE</td>\n",
       "      <td>3581655</td>\n",
       "      <td>28748</td>\n",
       "      <td>124,6</td>\n",
       "      <td>1,26</td>\n",
       "      <td>-4,93</td>\n",
       "      <td>21,52</td>\n",
       "      <td>4500.0</td>\n",
       "      <td>86,5</td>\n",
       "      <td>71,2</td>\n",
       "      <td>21,09</td>\n",
       "      <td>4,42</td>\n",
       "      <td>74,49</td>\n",
       "      <td>3</td>\n",
       "      <td>15,11</td>\n",
       "      <td>5,22</td>\n",
       "      <td>0,232</td>\n",
       "      <td>0,188</td>\n",
       "      <td>0,579</td>\n",
       "    </tr>\n",
       "    <tr>\n",
       "      <th>2</th>\n",
       "      <td>Algeria</td>\n",
       "      <td>NORTHERN AFRICA</td>\n",
       "      <td>32930091</td>\n",
       "      <td>2381740</td>\n",
       "      <td>13,8</td>\n",
       "      <td>0,04</td>\n",
       "      <td>-0,39</td>\n",
       "      <td>31</td>\n",
       "      <td>6000.0</td>\n",
       "      <td>70,0</td>\n",
       "      <td>78,1</td>\n",
       "      <td>3,22</td>\n",
       "      <td>0,25</td>\n",
       "      <td>96,53</td>\n",
       "      <td>1</td>\n",
       "      <td>17,14</td>\n",
       "      <td>4,61</td>\n",
       "      <td>0,101</td>\n",
       "      <td>0,6</td>\n",
       "      <td>0,298</td>\n",
       "    </tr>\n",
       "    <tr>\n",
       "      <th>6</th>\n",
       "      <td>Anguilla</td>\n",
       "      <td>LATIN AMER. &amp; CARIB</td>\n",
       "      <td>13477</td>\n",
       "      <td>102</td>\n",
       "      <td>132,1</td>\n",
       "      <td>59,80</td>\n",
       "      <td>10,76</td>\n",
       "      <td>21,03</td>\n",
       "      <td>8600.0</td>\n",
       "      <td>95,0</td>\n",
       "      <td>460,0</td>\n",
       "      <td>0</td>\n",
       "      <td>0</td>\n",
       "      <td>100</td>\n",
       "      <td>2</td>\n",
       "      <td>14,17</td>\n",
       "      <td>5,34</td>\n",
       "      <td>0,04</td>\n",
       "      <td>0,18</td>\n",
       "      <td>0,78</td>\n",
       "    </tr>\n",
       "    <tr>\n",
       "      <th>7</th>\n",
       "      <td>Antigua &amp; Barbuda</td>\n",
       "      <td>LATIN AMER. &amp; CARIB</td>\n",
       "      <td>69108</td>\n",
       "      <td>443</td>\n",
       "      <td>156,0</td>\n",
       "      <td>34,54</td>\n",
       "      <td>-6,15</td>\n",
       "      <td>19,46</td>\n",
       "      <td>11000.0</td>\n",
       "      <td>89,0</td>\n",
       "      <td>549,9</td>\n",
       "      <td>18,18</td>\n",
       "      <td>4,55</td>\n",
       "      <td>77,27</td>\n",
       "      <td>2</td>\n",
       "      <td>16,93</td>\n",
       "      <td>5,37</td>\n",
       "      <td>0,038</td>\n",
       "      <td>0,22</td>\n",
       "      <td>0,743</td>\n",
       "    </tr>\n",
       "  </tbody>\n",
       "</table>\n",
       "</div>"
      ],
      "text/plain": [
       "              Country                               Region  Population  \\\n",
       "0        Afghanistan         ASIA (EX. NEAR EAST)             31056997   \n",
       "1            Albania   EASTERN EUROPE                          3581655   \n",
       "2            Algeria   NORTHERN AFRICA                        32930091   \n",
       "6           Anguilla               LATIN AMER. & CARIB           13477   \n",
       "7  Antigua & Barbuda               LATIN AMER. & CARIB           69108   \n",
       "\n",
       "   Area (sq. mi.) Pop. Density (per sq. mi.) Coastline (coast/area ratio)  \\\n",
       "0          647500                       48,0                         0,00   \n",
       "1           28748                      124,6                         1,26   \n",
       "2         2381740                       13,8                         0,04   \n",
       "6             102                      132,1                        59,80   \n",
       "7             443                      156,0                        34,54   \n",
       "\n",
       "  Net migration Infant mortality (per 1000 births)  GDP ($ per capita)  \\\n",
       "0         23,06                             163,07               700.0   \n",
       "1         -4,93                              21,52              4500.0   \n",
       "2         -0,39                                 31              6000.0   \n",
       "6         10,76                              21,03              8600.0   \n",
       "7         -6,15                              19,46             11000.0   \n",
       "\n",
       "  Literacy (%) Phones (per 1000) Arable (%) Crops (%) Other (%) Climate  \\\n",
       "0         36,0               3,2      12,13      0,22     87,65       1   \n",
       "1         86,5              71,2      21,09      4,42     74,49       3   \n",
       "2         70,0              78,1       3,22      0,25     96,53       1   \n",
       "6         95,0             460,0          0         0       100       2   \n",
       "7         89,0             549,9      18,18      4,55     77,27       2   \n",
       "\n",
       "  Birthrate Deathrate Agriculture Industry Service  \n",
       "0      46,6     20,34        0,38     0,24    0,38  \n",
       "1     15,11      5,22       0,232    0,188   0,579  \n",
       "2     17,14      4,61       0,101      0,6   0,298  \n",
       "6     14,17      5,34        0,04     0,18    0,78  \n",
       "7     16,93      5,37       0,038     0,22   0,743  "
      ]
     },
     "execution_count": 27,
     "metadata": {},
     "output_type": "execute_result"
    }
   ],
   "source": [
    "df1.head()\n"
   ]
  },
  {
   "cell_type": "markdown",
   "id": "a80d9fd5",
   "metadata": {},
   "source": [
    "### All commas will be treated as periods"
   ]
  },
  {
   "cell_type": "code",
   "execution_count": 28,
   "id": "15e2d39b",
   "metadata": {},
   "outputs": [
    {
     "data": {
      "text/html": [
       "<div>\n",
       "<style scoped>\n",
       "    .dataframe tbody tr th:only-of-type {\n",
       "        vertical-align: middle;\n",
       "    }\n",
       "\n",
       "    .dataframe tbody tr th {\n",
       "        vertical-align: top;\n",
       "    }\n",
       "\n",
       "    .dataframe thead th {\n",
       "        text-align: right;\n",
       "    }\n",
       "</style>\n",
       "<table border=\"1\" class=\"dataframe\">\n",
       "  <thead>\n",
       "    <tr style=\"text-align: right;\">\n",
       "      <th></th>\n",
       "      <th>Population</th>\n",
       "      <th>Area (sq. mi.)</th>\n",
       "      <th>GDP ($ per capita)</th>\n",
       "    </tr>\n",
       "  </thead>\n",
       "  <tbody>\n",
       "    <tr>\n",
       "      <th>count</th>\n",
       "      <td>1.790000e+02</td>\n",
       "      <td>1.790000e+02</td>\n",
       "      <td>179.000000</td>\n",
       "    </tr>\n",
       "    <tr>\n",
       "      <th>mean</th>\n",
       "      <td>3.421415e+07</td>\n",
       "      <td>5.641830e+05</td>\n",
       "      <td>9125.698324</td>\n",
       "    </tr>\n",
       "    <tr>\n",
       "      <th>std</th>\n",
       "      <td>1.317639e+08</td>\n",
       "      <td>1.395657e+06</td>\n",
       "      <td>9644.123141</td>\n",
       "    </tr>\n",
       "    <tr>\n",
       "      <th>min</th>\n",
       "      <td>1.347700e+04</td>\n",
       "      <td>2.800000e+01</td>\n",
       "      <td>500.000000</td>\n",
       "    </tr>\n",
       "    <tr>\n",
       "      <th>25%</th>\n",
       "      <td>1.188580e+06</td>\n",
       "      <td>1.991500e+04</td>\n",
       "      <td>1800.000000</td>\n",
       "    </tr>\n",
       "    <tr>\n",
       "      <th>50%</th>\n",
       "      <td>6.940432e+06</td>\n",
       "      <td>1.184800e+05</td>\n",
       "      <td>5100.000000</td>\n",
       "    </tr>\n",
       "    <tr>\n",
       "      <th>75%</th>\n",
       "      <td>2.086014e+07</td>\n",
       "      <td>4.964410e+05</td>\n",
       "      <td>12950.000000</td>\n",
       "    </tr>\n",
       "    <tr>\n",
       "      <th>max</th>\n",
       "      <td>1.313974e+09</td>\n",
       "      <td>9.631420e+06</td>\n",
       "      <td>37800.000000</td>\n",
       "    </tr>\n",
       "  </tbody>\n",
       "</table>\n",
       "</div>"
      ],
      "text/plain": [
       "         Population  Area (sq. mi.)  GDP ($ per capita)\n",
       "count  1.790000e+02    1.790000e+02          179.000000\n",
       "mean   3.421415e+07    5.641830e+05         9125.698324\n",
       "std    1.317639e+08    1.395657e+06         9644.123141\n",
       "min    1.347700e+04    2.800000e+01          500.000000\n",
       "25%    1.188580e+06    1.991500e+04         1800.000000\n",
       "50%    6.940432e+06    1.184800e+05         5100.000000\n",
       "75%    2.086014e+07    4.964410e+05        12950.000000\n",
       "max    1.313974e+09    9.631420e+06        37800.000000"
      ]
     },
     "execution_count": 28,
     "metadata": {},
     "output_type": "execute_result"
    }
   ],
   "source": [
    "df1.describe()"
   ]
  },
  {
   "cell_type": "code",
   "execution_count": 29,
   "id": "936f051b",
   "metadata": {},
   "outputs": [],
   "source": [
    "df1.columns = ['country', 'region', 'pop', 'area', 'pop den', 'coastline', 'net migration', 'infant mortality', 'gdp', 'literacy', 'phones', 'arable', 'crops', 'other', 'climate', 'birthrate', 'deathrate', 'agri', 'industry', 'service']"
   ]
  },
  {
   "cell_type": "code",
   "execution_count": 48,
   "id": "729c38b7",
   "metadata": {},
   "outputs": [
    {
     "data": {
      "text/plain": [
       "<AxesSubplot:title={'center':'Area vs. Population'}, xlabel='area', ylabel='pop'>"
      ]
     },
     "execution_count": 48,
     "metadata": {},
     "output_type": "execute_result"
    },
    {
     "data": {
      "image/png": "[encoded data removed]",
      "text/plain": [
       "<Figure size 432x288 with 1 Axes>"
      ]
     },
     "metadata": {
      "needs_background": "light"
     },
     "output_type": "display_data"
    }
   ],
   "source": [
    "df1.plot.scatter('area', 'pop', title = 'Area vs. Population')"
   ]
  },
  {
   "cell_type": "markdown",
   "id": "d485247c",
   "metadata": {},
   "source": [
    "##### In the scatterplot Area vs. Population, there appears to be a very weak positive relationship. To test this theory a simple linear regression will be used to examine the relationship."
   ]
  },
  {
   "cell_type": "code",
   "execution_count": 31,
   "id": "c1d96012",
   "metadata": {},
   "outputs": [
    {
     "name": "stdout",
     "output_type": "stream",
     "text": [
      "                            OLS Regression Results                            \n",
      "==============================================================================\n",
      "Dep. Variable:                    pop   R-squared:                       0.373\n",
      "Model:                            OLS   Adj. R-squared:                  0.370\n",
      "Method:                 Least Squares   F-statistic:                     105.4\n",
      "Date:                Thu, 10 Jun 2021   Prob (F-statistic):           1.09e-19\n",
      "Time:                        14:58:07   Log-Likelihood:                -3558.4\n",
      "No. Observations:                 179   AIC:                             7121.\n",
      "Df Residuals:                     177   BIC:                             7127.\n",
      "Df Model:                           1                                         \n",
      "Covariance Type:            nonrobust                                         \n",
      "==============================================================================\n",
      "                 coef    std err          t      P>|t|      [0.025      0.975]\n",
      "------------------------------------------------------------------------------\n",
      "const       1.678e+06   8.44e+06      0.199      0.843    -1.5e+07    1.83e+07\n",
      "area          57.6703      5.618     10.264      0.000      46.583      68.758\n",
      "==============================================================================\n",
      "Omnibus:                      233.612   Durbin-Watson:                   1.924\n",
      "Prob(Omnibus):                  0.000   Jarque-Bera (JB):            17261.328\n",
      "Skew:                           5.222   Prob(JB):                         0.00\n",
      "Kurtosis:                      49.960   Cond. No.                     1.62e+06\n",
      "==============================================================================\n",
      "\n",
      "Notes:\n",
      "[1] Standard Errors assume that the covariance matrix of the errors is correctly specified.\n",
      "[2] The condition number is large, 1.62e+06. This might indicate that there are\n",
      "strong multicollinearity or other numerical problems.\n"
     ]
    }
   ],
   "source": [
    "X = df1['area'] \n",
    "Y = df1['pop']\n",
    "\n",
    "X = sm.add_constant(X) \n",
    "\n",
    "model = sm.OLS(Y, X).fit()\n",
    "predictions = model.predict(X) \n",
    "\n",
    "print_model = model.summary()\n",
    "print(print_model)"
   ]
  },
  {
   "cell_type": "markdown",
   "id": "352451d5",
   "metadata": {},
   "source": [
    "#### The coefficient for area is positive as predicted by the scatterplot and is significant to the 0.01 p-value level. But when examing the R-squared we find that it only explains about 22.1% of the variance. Therefore the regression is rather unreliable because it does not fit the model very well."
   ]
  },
  {
   "cell_type": "markdown",
   "id": "b291d5f4",
   "metadata": {},
   "source": [
    "#### A relating question that can be asked is \"does GDP affect population\". To check this hypothesis two approaches can be applied. firstly, a simple linear regression between GDP and population and secondly, a multiple regression with area and GDP as the explantory variables and population as the response variable."
   ]
  },
  {
   "cell_type": "code",
   "execution_count": 32,
   "id": "3f5da2b2",
   "metadata": {},
   "outputs": [
    {
     "name": "stdout",
     "output_type": "stream",
     "text": [
      "                            OLS Regression Results                            \n",
      "==============================================================================\n",
      "Dep. Variable:                    pop   R-squared:                       0.379\n",
      "Model:                            OLS   Adj. R-squared:                  0.372\n",
      "Method:                 Least Squares   F-statistic:                     53.67\n",
      "Date:                Thu, 10 Jun 2021   Prob (F-statistic):           6.33e-19\n",
      "Time:                        14:58:12   Log-Likelihood:                -3557.5\n",
      "No. Observations:                 179   AIC:                             7121.\n",
      "Df Residuals:                     176   BIC:                             7131.\n",
      "Df Model:                           2                                         \n",
      "Covariance Type:            nonrobust                                         \n",
      "==============================================================================\n",
      "                 coef    std err          t      P>|t|      [0.025      0.975]\n",
      "------------------------------------------------------------------------------\n",
      "const       1.084e+07   1.11e+07      0.978      0.329    -1.1e+07    3.27e+07\n",
      "area          58.1590      5.622     10.345      0.000      47.064      69.254\n",
      "gdp        -1034.6329    813.568     -1.272      0.205   -2640.238     570.972\n",
      "==============================================================================\n",
      "Omnibus:                      231.971   Durbin-Watson:                   1.921\n",
      "Prob(Omnibus):                  0.000   Jarque-Bera (JB):            16433.088\n",
      "Skew:                           5.177   Prob(JB):                         0.00\n",
      "Kurtosis:                      48.783   Cond. No.                     2.13e+06\n",
      "==============================================================================\n",
      "\n",
      "Notes:\n",
      "[1] Standard Errors assume that the covariance matrix of the errors is correctly specified.\n",
      "[2] The condition number is large, 2.13e+06. This might indicate that there are\n",
      "strong multicollinearity or other numerical problems.\n"
     ]
    }
   ],
   "source": [
    "X = df1[['area','gdp']]\n",
    "Y = df1['pop']\n",
    "\n",
    "X = sm.add_constant(X) \n",
    "\n",
    "model = sm.OLS(Y, X).fit()\n",
    "predictions = model.predict(X) \n",
    "\n",
    "print_model = model.summary()\n",
    "print(print_model)"
   ]
  },
  {
   "cell_type": "markdown",
   "id": "159840a5",
   "metadata": {},
   "source": [
    "#### The R-squared for the multiple regression is 37.9% which is an important from the simple linear regression. Another note is the f-value has a low p-value, thus the group of coefficients are significant. The only variable significant alone is area with a p-value below the 0.01 level. GDP aloned is not significant but when place in a model with area it does influence the results. "
   ]
  },
  {
   "cell_type": "code",
   "execution_count": null,
   "id": "faa58b1a",
   "metadata": {},
   "outputs": [],
   "source": []
  },
  {
   "cell_type": "code",
   "execution_count": null,
   "id": "d7874d68",
   "metadata": {},
   "outputs": [],
   "source": []
  }
 ],
 "metadata": {
  "kernelspec": {
   "display_name": "Python 3",
   "language": "python",
   "name": "python3"
  },
  "language_info": {
   "codemirror_mode": {
    "name": "ipython",
    "version": 3
   },
   "file_extension": ".py",
   "mimetype": "text/x-python",
   "name": "python",
   "nbconvert_exporter": "python",
   "pygments_lexer": "ipython3",
   "version": "3.6.8"
  }
 },
 "nbformat": 4,
 "nbformat_minor": 5
}
